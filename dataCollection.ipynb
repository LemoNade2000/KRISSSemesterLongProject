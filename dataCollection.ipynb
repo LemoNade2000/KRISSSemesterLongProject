{
 "cells": [
  {
   "cell_type": "code",
   "execution_count": 51,
   "metadata": {},
   "outputs": [],
   "source": [
    "from pandas_datareader import data as pdr\n",
    "from datetime import date\n",
    "import yfinance as yf\n",
    "yf.pdr_override()\n",
    "import pandas as pd\n",
    "import seaborn as sns\n",
    "from datetime import datetime, timedelta, timezone\n",
    "import matplotlib.pyplot as plt\n",
    "sns.set_style(\"darkgrid\")"
   ]
  },
  {
   "cell_type": "code",
   "execution_count": null,
   "metadata": {},
   "outputs": [],
   "source": [
    "## List of FOMC dates\n",
    "\n",
    "start_date = [\n",
    "    \"2022-09-21\", \"2022-07-27\", \"2022-06-15\", \"2022-05-04\", \"2022-03-16\", \n",
    "    \"2020-11-05\", \"2020-09-16\", \"2020-08-27\", \"2020-07-29\", \"2020-06-10\", \"2020-04-29\",\n",
    "    \"2019-10-30\", \"2019-09-18\", \"2019-07-31\", \n",
    "    \"2018-12-19\", \"2018-09-26\", \"2018-06-13\", \"2018-03-21\",\n",
    "    \"2017-12-13\", \"2017-06-14\", \"2017-03-15\"\n",
    "    ]\n",
    "end_date = []\n",
    "\n",
    "for i in range(len(start_date)):\n",
    "    start_date[i] = datetime.strptime(start_date[i], \"%Y-%m-%d\") - timedelta(days = 1)\n",
    "    end_date.append(start_date[i] + timedelta(days = 31))\n",
    "    start_date[i] = datetime.strftime(start_date[i], \"%Y-%m-%d\")\n",
    "    end_date[i] = datetime.strftime(end_date[i], \"%Y-%m-%d\")\n",
    "\n",
    "def collectData(ticker): ## Plot 30 days movement of ticker after FOMC dates. Last plot combines every dates.\n",
    "    plt.figure(len(start_date), figsize = (15, 9))\n",
    "    plt.title(\"Change of S&P500 Index after each FOMC meeting\")\n",
    "    for i in range(len(start_date)):\n",
    "        data = pdr.get_data_yahoo(ticker, start=start_date[i], end=end_date[i])\n",
    "        x = data.index\n",
    "        shift = datetime.strptime(start_date[i], \"%Y-%m-%d\")\n",
    "        shift = shift.replace(tzinfo = timezone.utc)\n",
    "        yPercent = 100 *(data['Close'] - data['Open']) / data['Open']\n",
    "        y = data['Close']\n",
    "        x = (x - shift).days\n",
    "        print(x)\n",
    "        plt.figure(i, figsize = (15, 4))\n",
    "        plt.plot(x, y)\n",
    "        plt.title(\"S&P500 After FOMC Meeting on {}\".format(start_date[i]))\n",
    "        plt.figure(len(start_date))\n",
    "        plt.plot(x, yPercent)\n",
    "\n",
    "collectData('^GSPC') ## Ticker for S&P500\n"
   ]
  }
 ],
 "metadata": {
  "kernelspec": {
   "display_name": "Python 3.10.7 64-bit (microsoft store)",
   "language": "python",
   "name": "python3"
  },
  "language_info": {
   "codemirror_mode": {
    "name": "ipython",
    "version": 3
   },
   "file_extension": ".py",
   "mimetype": "text/x-python",
   "name": "python",
   "nbconvert_exporter": "python",
   "pygments_lexer": "ipython3",
   "version": "3.10.7"
  },
  "orig_nbformat": 4,
  "vscode": {
   "interpreter": {
    "hash": "b3847e3315482d879cde8b9b91916fa0c343588700a4f0a39ba6f374011ed283"
   }
  }
 },
 "nbformat": 4,
 "nbformat_minor": 2
}
