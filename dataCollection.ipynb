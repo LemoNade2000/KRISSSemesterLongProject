{
 "cells": [
  {
   "cell_type": "code",
   "execution_count": null,
   "metadata": {},
   "outputs": [],
   "source": [
    "import pandas as pd"
   ]
  },
  {
   "cell_type": "code",
   "execution_count": null,
   "metadata": {},
   "outputs": [],
   "source": [
    "from pandas_datareader import data as pdr\n",
    "\n",
    "#import pandas_datareader as pdr\n",
    "import yfinance as yf\n",
    "yf.pdr_override()\n",
    "import pandas as pd\n",
    "import seaborn as sns\n",
    "from datetime import datetime, timedelta, timezone\n",
    "import matplotlib.pyplot as plt\n",
    "sns.set_style(\"darkgrid\")\n",
    "plt.rcParams.update({'figure.max_open_warning': 0})"
   ]
  },
  {
   "cell_type": "code",
   "execution_count": null,
   "metadata": {},
   "outputs": [],
   "source": [
    "## List of FOMC dates\n",
    "\n",
    "start_date = [\n",
    "    \"2022-09-21\", \"2022-07-27\", \"2022-06-15\", \"2022-05-04\", \"2022-03-16\", \n",
    "    \"2018-12-19\", \"2018-09-26\", \"2018-06-13\", \"2018-03-21\",\n",
    "    \"2017-12-13\", \"2017-06-14\", \"2017-03-15\", \"2016-12-14\", \"2015-12-16\", \"2006-06-29\", \"2006-05-10\",\n",
    "    \"2006-03-28\", \"2006-01-31\", \"2005-12-13\",\"2005-11-01\", \"2005-09-01\",\"2005-09-20\",\"2005-08-09\",\"2005-06-30\",\n",
    "    \"2005-05-03\", \"2005-03-22\", \"2005-02-02\",\"2004-12-14\",\"2004-11-10\",\"2004-09-21\",\"2004-08-10\",\"2004-06-30\",\n",
    "    \"2000-05-16\",\"2000-03-21\", \"2000-02-02\"\n",
    "    ]\n",
    "end_date = []\n",
    "\n",
    "for i in range(len(start_date)): ## Generate End dates for each FOMC meeting term\n",
    "    start_date[i] = datetime.strptime(start_date[i], \"%Y-%m-%d\") - timedelta(days = 1)\n",
    "    end_date.append(start_date[i] + timedelta(days = 55))\n",
    "    start_date[i] = datetime.strftime(start_date[i], \"%Y-%m-%d\") \n",
    "    end_date[i] = datetime.strftime(end_date[i], \"%Y-%m-%d\") # end_date and start_date as strings\n",
    "\n",
    "def collectData(ticker): ## Plot 30 days movement of ticker after FOMC dates. Last plot combines every dates.\n",
    "    plt.figure(len(start_date), figsize = (15, 9))\n",
    "    plt.title(\"Change of S&P500 Index after each FOMC meeting\")\n",
    "    for i in range(len(start_date)):\n",
    "        data = pdr.get_data_yahoo(ticker, start=start_date[i], end=end_date[i])\n",
    "        #print(data)\n",
    "        x = data.index\n",
    "        shift = datetime.strptime(start_date[i], \"%Y-%m-%d\")\n",
    "        shift = shift.replace(tzinfo = timezone.utc)\n",
    "        yPercent = 100 *(data['Close'] - data['Open'])  / data['Open']\n",
    "        y = data['Close']\n",
    "        x = (x - shift).days\n",
    "        plt.figure(i, figsize = (15, 4))\n",
    "        plt.plot(x, y)\n",
    "        plt.title(\"S&P500 After FOMC Meeting on {}\".format(start_date[i]))\n",
    "        plt.figure(len(start_date))\n",
    "        plt.plot(x, yPercent)\n",
    "    \n",
    "\n",
    "collectData('^GSPC') ## Ticker for S&P500\n",
    "\n",
    "\n",
    "\n",
    "    "
   ]
  },
  {
   "cell_type": "code",
   "execution_count": null,
   "metadata": {},
   "outputs": [],
   "source": [
    "import csv\n",
    "\n",
    "tickerList = []\n",
    "\n",
    "with open('TickerList.csv') as f:\n",
    "    reader = csv.reader(f)\n",
    "    tickerList = list(reader)\n",
    "\n",
    "print(tickerList)\n",
    "print(len(tickerList[0]))\n",
    "tickerList[0][43]='BRK-B'\n",
    "print(tickerList)\n"
   ]
  },
  {
   "cell_type": "code",
   "execution_count": null,
   "metadata": {},
   "outputs": [],
   "source": [
    "#list_df=[]\n",
    "for i in range(len(tickerList[0])):\n",
    "    #list = []\n",
    "    price = yf.Ticker(tickerList[0][i])\n",
    "    stock=pd.DataFrame()\n",
    "    for m in range(len(start_date)):\n",
    "        price_mvt = price.history(start=start_date[m], end = end_date[m], interval = '1d')\n",
    "        price_mvt=price_mvt['Close']\n",
    "        price_mvt=price_mvt.reset_index()\n",
    "        price_mvt=price_mvt.drop(columns='Date')\n",
    "        price_mvt=price_mvt.transpose()\n",
    "        price_mvt=price_mvt.rename({'Close':start_date[m]}) \n",
    "        price_mvt=price_mvt.iloc[0: , 0:31]\n",
    "        stock = stock.append(price_mvt)\n",
    "    stock.to_csv(tickerList[0][i]+'.csv')\n",
    "    #list.append(tickerList[0][i]+'.csv')\n",
    "\n",
    "    \n",
    "    "
   ]
  },
  {
   "cell_type": "code",
   "execution_count": null,
   "metadata": {},
   "outputs": [],
   "source": [
    "# previous cell에서 중간에 run 멈춰서 하는 데 너무 오래걸려서 tickerList 분리후, 멈춘 곳에서 다시 loop 시작\n",
    "tickerList2 = tickerList[0][168:]\n",
    "for i in range(len(tickerList2)):\n",
    "  \n",
    "    price = yf.Ticker(tickerList2[i])\n",
    "    stock=pd.DataFrame()\n",
    "    for m in range(len(start_date)):\n",
    "        price_mvt = price.history(start=start_date[m], end = end_date[m], interval = '1d')\n",
    "        price_mvt=price_mvt['Close']\n",
    "        price_mvt=price_mvt.reset_index()\n",
    "        price_mvt=price_mvt.drop(columns='Date')\n",
    "        price_mvt=price_mvt.transpose()\n",
    "        price_mvt=price_mvt.rename({'Close':start_date[m]}) \n",
    "        price_mvt=price_mvt.iloc[0: , 0:31]\n",
    "        stock = stock.append(price_mvt)\n",
    "    stock.to_csv(tickerList2[i]+'.csv')\n",
    "    #list.append(tickerList2[i]+'.csv')\n"
   ]
  },
  {
   "cell_type": "code",
   "execution_count": null,
   "metadata": {},
   "outputs": [],
   "source": [
    "tickerList[0].index('HD')"
   ]
  },
  {
   "cell_type": "code",
   "execution_count": null,
   "metadata": {},
   "outputs": [],
   "source": [
    "#csv 파일 read 할 수 있도록\n",
    "csv_list = []\n",
    "for i in range(len(tickerList[0])):\n",
    "    csv_list.append(tickerList[0][i]+'.csv')"
   ]
  },
  {
   "cell_type": "code",
   "execution_count": null,
   "metadata": {},
   "outputs": [],
   "source": [
    "csv_list\n"
   ]
  }
 ],
 "metadata": {
  "kernelspec": {
   "display_name": "Python 3.10.8 64-bit (microsoft store)",
   "language": "python",
   "name": "python3"
  },
  "language_info": {
   "codemirror_mode": {
    "name": "ipython",
    "version": 3
   },
   "file_extension": ".py",
   "mimetype": "text/x-python",
   "name": "python",
   "nbconvert_exporter": "python",
   "pygments_lexer": "ipython3",
   "version": "3.10.8"
  },
  "vscode": {
   "interpreter": {
    "hash": "b3847e3315482d879cde8b9b91916fa0c343588700a4f0a39ba6f374011ed283"
   }
  }
 },
 "nbformat": 4,
 "nbformat_minor": 2
}
