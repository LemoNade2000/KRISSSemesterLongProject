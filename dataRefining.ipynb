{
 "cells": [
  {
   "cell_type": "code",
   "execution_count": null,
   "metadata": {},
   "outputs": [],
   "source": [
    "import csv\n",
    "import pandas as pd\n",
    "from pandas_datareader import data as pdr\n",
    "import yfinance as yf\n",
    "import numpy as np\n",
    "from datetime import datetime, timedelta, timezone"
   ]
  },
  {
   "cell_type": "code",
   "execution_count": null,
   "metadata": {},
   "outputs": [],
   "source": [
    "def collectData(ticker): ## Plot 30 days movement of ticker after FOMC dates. Last plot combines every dates.\n",
    "    data = pdr.get_data_yahoo(ticker, start='2022-01-01', end='2022-01-31')\n",
    "    x = data.index\n",
    "    shift = datetime.strptime('2022-01-01', \"%Y-%m-%d\")\n",
    "    shift = shift.replace(tzinfo = timezone.utc)\n",
    "    print(data)\n",
    "    # y = data['Close']\n",
    "    # x = (x - shift).days\n",
    "\n",
    "collectData('^GSPC') ## Ticker for S&P500\n"
   ]
  },
  {
   "cell_type": "code",
   "execution_count": null,
   "metadata": {},
   "outputs": [],
   "source": [
    "df = pd.DataFrame(np.array([[3, 2, 6, 7], [6, 4, 2, 7]]), index = ['A', 'B'])\n",
    "df.to_csv('data.csv') ## sample data"
   ]
  },
  {
   "cell_type": "code",
   "execution_count": null,
   "metadata": {},
   "outputs": [],
   "source": [
    "df = pd.read_csv('data.csv')\n",
    "print(df)"
   ]
  }
 ],
 "metadata": {
  "kernelspec": {
   "display_name": "Python 3.10.8 64-bit (microsoft store)",
   "language": "python",
   "name": "python3"
  },
  "language_info": {
   "codemirror_mode": {
    "name": "ipython",
    "version": 3
   },
   "file_extension": ".py",
   "mimetype": "text/x-python",
   "name": "python",
   "nbconvert_exporter": "python",
   "pygments_lexer": "ipython3",
   "version": "3.10.8"
  },
  "orig_nbformat": 4,
  "vscode": {
   "interpreter": {
    "hash": "b3847e3315482d879cde8b9b91916fa0c343588700a4f0a39ba6f374011ed283"
   }
  }
 },
 "nbformat": 4,
 "nbformat_minor": 2
}
