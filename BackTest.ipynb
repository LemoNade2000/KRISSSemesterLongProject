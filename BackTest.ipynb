{
 "cells": [
  {
   "cell_type": "code",
   "execution_count": 34,
   "metadata": {},
   "outputs": [],
   "source": [
    "import pandas as pd\n",
    "import numpy as np\n",
    "from datetime import datetime, timedelta\n",
    "import csv\n",
    "import os"
   ]
  },
  {
   "cell_type": "code",
   "execution_count": 36,
   "metadata": {},
   "outputs": [],
   "source": [
    "cwd = os.getcwd()"
   ]
  },
  {
   "cell_type": "code",
   "execution_count": 3,
   "metadata": {},
   "outputs": [],
   "source": [
    "start_date = [\n",
    "    \"2022-09-21\", \"2022-07-27\", \"2022-06-15\", \"2022-05-04\", \"2022-03-16\", \n",
    "    \"2018-12-19\", \"2018-09-26\", \"2018-06-13\", \"2018-03-21\",\n",
    "    \"2017-12-13\", \"2017-06-14\", \"2017-03-15\", \"2016-12-14\", \"2015-12-16\", \"2006-06-29\", \"2006-05-10\",\n",
    "    \"2006-03-28\", \"2006-01-31\", \"2005-12-13\",\"2005-11-01\", \"2005-09-01\",\"2005-09-20\",\"2005-08-09\",\"2005-06-30\",\n",
    "    \"2005-05-03\", \"2005-03-22\", \"2005-02-02\",\"2004-12-14\",\"2004-11-10\",\"2004-09-21\",\"2004-08-10\",\"2004-06-30\",\n",
    "    \"2000-05-16\",\"2000-03-21\", \"2000-02-02\"\n",
    "    ]\n",
    "end_date = []\n",
    "\n",
    "for i in range(len(start_date)): ## Generate End dates for each FOMC meeting term\n",
    "    start_date[i] = datetime.strptime(start_date[i], \"%Y-%m-%d\") - timedelta(days = 1)\n",
    "    end_date.append(start_date[i] + timedelta(days = 55))\n",
    "    start_date[i] = datetime.strftime(start_date[i], \"%Y-%m-%d\") \n",
    "    end_date[i] = datetime.strftime(end_date[i], \"%Y-%m-%d\") # end_date and start_date as strings\n"
   ]
  },
  {
   "cell_type": "code",
   "execution_count": 111,
   "metadata": {},
   "outputs": [],
   "source": [
    "def initTicker(stock):\n",
    "    ticker = stock\n",
    "    dir = cwd + \"\\\\Data\\\\TransformedData\\\\{}.csv\".format(ticker)\n",
    "    df = pd.read_csv(dir)\n",
    "    termInfo = pd.read_csv(\"TermInformation.csv\")\n",
    "    termInfo = termInfo.set_index('Unnamed: 0')\n",
    "    termInfo.index.name = \"Ticker\"\n",
    "    df.index.name = \"Date\"\n",
    "    return df, termInfo"
   ]
  },
  {
   "cell_type": "code",
   "execution_count": 110,
   "metadata": {},
   "outputs": [],
   "source": [
    "def getRecDays(termInfo, ticker):\n",
    "    recDay1 = termInfo.loc[ticker][0]\n",
    "    recDay2 = termInfo.loc[ticker][1]\n",
    "    term = termInfo.loc[ticker][2]\n",
    "    return recDay1, recDay2, term"
   ]
  },
  {
   "cell_type": "code",
   "execution_count": 109,
   "metadata": {},
   "outputs": [],
   "source": [
    "def backtest(df, recDay1, recDay2, term):\n",
    "    init = 1\n",
    "    win = 0\n",
    "    lose = 0\n",
    "    for i in range(len(df)):\n",
    "        vect = df.loc[len(df) - i - 1]\n",
    "        vect = vect.drop('id')\n",
    "        recDay1 = np.floor(recDay1).astype(int)\n",
    "        recDay2 = np.floor(recDay2).astype(int)\n",
    "        term = np.round(term).astype(int)\n",
    "        buyPrice = 0.0\n",
    "        sellPrice = 0.0\n",
    "        if vect[recDay1] < vect[0]:\n",
    "            buyPrice = vect[recDay1]\n",
    "        else:\n",
    "            print(\"{}th FOMC Return : 1.00\".format(i))\n",
    "            print(\"Cumulative Return : {}\".format(init))\n",
    "            continue\n",
    "        for day in range(recDay1, recDay1 + term + 1):\n",
    "            if vect[day] < 0.95 * buyPrice:\n",
    "                sellPrice = vect[day]\n",
    "                init = init * sellPrice / buyPrice\n",
    "                lose = lose + 1\n",
    "                break\n",
    "        if sellPrice != 0:\n",
    "            print(\"{}th FOMC : Buy {} Sell {} Return {}\".format(i, buyPrice, sellPrice, sellPrice / buyPrice))\n",
    "            print(\"Cumulative Return : {}\".format(init))\n",
    "            continue\n",
    "        sellPrice = vect[recDay1 + term]\n",
    "        init = init * sellPrice / buyPrice\n",
    "        print(\"{}th FOMC : Buy {} Sell {} Return {}\".format(i, buyPrice, sellPrice, sellPrice / buyPrice))\n",
    "        print(\"Cumulative Return : {}\".format(init))\n",
    "        if(sellPrice > buyPrice):\n",
    "            win = win + 1\n",
    "    print(win, lose)"
   ]
  },
  {
   "cell_type": "code",
   "execution_count": 113,
   "metadata": {},
   "outputs": [],
   "source": [
    "def pipeline(stock):\n",
    "    df, termInfo = initTicker(stock)\n",
    "    recDay1, recDay2, term = getRecDays(termInfo, stock)\n",
    "    backtest(df, recDay1, recDay2, term)"
   ]
  },
  {
   "cell_type": "code",
   "execution_count": 119,
   "metadata": {},
   "outputs": [
    {
     "name": "stdout",
     "output_type": "stream",
     "text": [
      "0th FOMC Return : 1.00\n",
      "Cumulative Return : 1\n",
      "1th FOMC : Buy 143.92999267578125 Sell 150.25 Return 1.0439102872634427\n",
      "Cumulative Return : 1.0439102872634427\n",
      "2th FOMC : Buy 156.33999633789062 Sell 148.10000610351562 Return 0.9472944196789779\n",
      "Cumulative Return : 0.988890389770138\n",
      "3th FOMC : Buy 143.47999572753906 Sell 149.5800018310547 Return 1.0425146799913434\n",
      "Cumulative Return : 1.03093274823773\n",
      "4th FOMC Return : 1.00\n",
      "Cumulative Return : 1.03093274823773\n",
      "5th FOMC : Buy 199.1300048828125 Sell 201.2899932861328 Return 1.0108471267531554\n",
      "Cumulative Return : 1.0421154064318434\n",
      "6th FOMC Return : 1.00\n",
      "Cumulative Return : 1.0421154064318434\n",
      "7th FOMC : Buy 216.80999755859366 Sell 205.27999877929688 Return 0.9468198011663149\n",
      "Cumulative Return : 0.9866955019101514\n",
      "8th FOMC Return : 1.00\n",
      "Cumulative Return : 0.9866955019101514\n",
      "9th FOMC Return : 1.00\n",
      "Cumulative Return : 0.9866955019101514\n",
      "10th FOMC : Buy 226.9600067138672 Sell 247.3000030517578 Return 1.0896192973924856\n",
      "Cumulative Return : 1.0751224595316653\n",
      "11th FOMC : Buy 211.3999938964844 Sell 220.9100036621093 Return 1.0449858563869288\n",
      "Cumulative Return : 1.1234877640945184\n",
      "12th FOMC Return : 1.00\n",
      "Cumulative Return : 1.1234877640945184\n",
      "5 2\n"
     ]
    }
   ],
   "source": [
    "pipeline(\"FLT\")"
   ]
  }
 ],
 "metadata": {
  "kernelspec": {
   "display_name": "Python 3.7.4 ('base')",
   "language": "python",
   "name": "python3"
  },
  "language_info": {
   "codemirror_mode": {
    "name": "ipython",
    "version": 3
   },
   "file_extension": ".py",
   "mimetype": "text/x-python",
   "name": "python",
   "nbconvert_exporter": "python",
   "pygments_lexer": "ipython3",
   "version": "3.7.4"
  },
  "orig_nbformat": 4,
  "vscode": {
   "interpreter": {
    "hash": "28d6d9e31a694f2aba28d42b1019d9365f56410d563150feaee59905aa4508a9"
   }
  }
 },
 "nbformat": 4,
 "nbformat_minor": 2
}
