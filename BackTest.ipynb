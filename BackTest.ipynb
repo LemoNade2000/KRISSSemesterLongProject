{
 "cells": [
  {
   "cell_type": "code",
   "execution_count": 60,
   "metadata": {},
   "outputs": [],
   "source": [
    "import pandas as pd\n",
    "import numpy as np\n",
    "from datetime import datetime, timedelta\n",
    "import csv\n",
    "import os\n",
    "import warnings\n",
    "warnings.filterwarnings(\"ignore\")"
   ]
  },
  {
   "cell_type": "code",
   "execution_count": 3,
   "metadata": {},
   "outputs": [],
   "source": [
    "cwd = os.getcwd()"
   ]
  },
  {
   "cell_type": "code",
   "execution_count": 4,
   "metadata": {},
   "outputs": [],
   "source": [
    "start_date = [\n",
    "    \"2022-09-21\", \"2022-07-27\", \"2022-06-15\", \"2022-05-04\", \"2022-03-16\", \n",
    "    \"2018-12-19\", \"2018-09-26\", \"2018-06-13\", \"2018-03-21\",\n",
    "    \"2017-12-13\", \"2017-06-14\", \"2017-03-15\", \"2016-12-14\", \"2015-12-16\", \"2006-06-29\", \"2006-05-10\",\n",
    "    \"2006-03-28\", \"2006-01-31\", \"2005-12-13\",\"2005-11-01\", \"2005-09-01\",\"2005-09-20\",\"2005-08-09\",\"2005-06-30\",\n",
    "    \"2005-05-03\", \"2005-03-22\", \"2005-02-02\",\"2004-12-14\",\"2004-11-10\",\"2004-09-21\",\"2004-08-10\",\"2004-06-30\",\n",
    "    \"2000-05-16\",\"2000-03-21\", \"2000-02-02\"\n",
    "    ]\n",
    "end_date = []\n",
    "\n",
    "for i in range(len(start_date)): ## Generate End dates for each FOMC meeting term\n",
    "    start_date[i] = datetime.strptime(start_date[i], \"%Y-%m-%d\") - timedelta(days = 1)\n",
    "    end_date.append(start_date[i] + timedelta(days = 55))\n",
    "    start_date[i] = datetime.strftime(start_date[i], \"%Y-%m-%d\") \n",
    "    end_date[i] = datetime.strftime(end_date[i], \"%Y-%m-%d\") # end_date and start_date as strings\n"
   ]
  },
  {
   "cell_type": "code",
   "execution_count": 5,
   "metadata": {},
   "outputs": [],
   "source": [
    "def initTicker(stock):\n",
    "    ticker = stock\n",
    "    dir = cwd + \"\\\\Data\\\\TransformedData\\\\{}.csv\".format(ticker)\n",
    "    df = pd.read_csv(dir)\n",
    "    termInfo = pd.read_csv(\"TermInformation.csv\")\n",
    "    termInfo = termInfo.set_index('Unnamed: 0')\n",
    "    termInfo.index.name = \"Ticker\"\n",
    "    df.index.name = \"Date\"\n",
    "    return df, termInfo"
   ]
  },
  {
   "cell_type": "code",
   "execution_count": 6,
   "metadata": {},
   "outputs": [],
   "source": [
    "def getRecDays(termInfo, ticker):\n",
    "    recDay1 = termInfo.loc[ticker][0]\n",
    "    recDay2 = termInfo.loc[ticker][1]\n",
    "    term = termInfo.loc[ticker][2]\n",
    "    return recDay1, recDay2, term"
   ]
  },
  {
   "cell_type": "code",
   "execution_count": 55,
   "metadata": {},
   "outputs": [],
   "source": [
    "def backtest(df, recDay1, recDay2, term):\n",
    "    init = 1\n",
    "    win = 0\n",
    "    lose = 0\n",
    "    for i in range(len(df)):\n",
    "        vect = df.loc[len(df) - i - 1]\n",
    "        vect = vect.drop('id')\n",
    "        recDay1 = np.floor(recDay1).astype(int)\n",
    "        recDay2 = np.floor(recDay2).astype(int)\n",
    "        term = np.round(term).astype(int)\n",
    "        buyPrice = 0.0\n",
    "        sellPrice = 0.0\n",
    "        if vect[recDay1] < vect[0]:\n",
    "            buyPrice = vect[recDay1]\n",
    "        else:\n",
    "            print(\"{}th FOMC Return : 1.00\".format(i))\n",
    "            print(\"Cumulative Return : {}\".format(init))\n",
    "            continue\n",
    "        for day in range(recDay1, min(recDay1 + term + 1, 31)):\n",
    "            if vect[day] < 0.95 * buyPrice:\n",
    "                sellPrice = vect[day]\n",
    "                init = init * sellPrice / buyPrice\n",
    "                lose = lose + 1\n",
    "                break\n",
    "        if sellPrice != 0:\n",
    "            print(\"{}th FOMC : Buy {} Sell {} Return {}\".format(i, buyPrice, sellPrice, sellPrice / buyPrice))\n",
    "            print(\"Cumulative Return : {}\".format(init))\n",
    "            continue\n",
    "        sellPrice = vect[recDay1 + term]\n",
    "        init = init * sellPrice / buyPrice\n",
    "        print(\"{}th FOMC : Buy {} Sell {} Return {}\".format(i, buyPrice, sellPrice, sellPrice / buyPrice))\n",
    "        print(\"Cumulative Return : {}\".format(init))\n",
    "        if(sellPrice > buyPrice):\n",
    "            win = win + 1\n",
    "    print(win, lose)\n",
    "    return init, win, lose\n",
    "\n",
    "def backtestSup(df, recDay1, recDay2, term):\n",
    "    init = 1\n",
    "    win = 0\n",
    "    lose = 0\n",
    "    for i in range(len(df)):\n",
    "        vect = df.loc[len(df) - i - 1]\n",
    "        vect = vect.drop('id')\n",
    "        recDay1 = np.floor(recDay1).astype(int)\n",
    "        recDay2 = np.floor(recDay2).astype(int)\n",
    "        term = np.round(term).astype(int)\n",
    "        buyPrice = 0.0\n",
    "        sellPrice = 0.0\n",
    "        if vect[recDay1] < vect[0]:\n",
    "            buyPrice = vect[recDay1]\n",
    "        else:\n",
    "            continue\n",
    "        for day in range(recDay1, min(recDay1 + term + 1, 31)):\n",
    "            if vect[day] < 0.95 * buyPrice:\n",
    "                sellPrice = vect[day]\n",
    "                init = init * sellPrice / buyPrice\n",
    "                lose = lose + 1\n",
    "                break\n",
    "        if sellPrice != 0:\n",
    "            continue\n",
    "        sellPrice = vect[recDay1 + term]\n",
    "        init = init * sellPrice / buyPrice\n",
    "        if(sellPrice > buyPrice):\n",
    "            win = win + 1\n",
    "    return init, win, lose\n",
    "\n",
    "def backtestFuture(df, recDay1, recDay2, term):\n",
    "    init = 1\n",
    "    win = 0\n",
    "    lose = 0\n",
    "    for i in range(31, len(df)):\n",
    "        vect = df.loc[len(df) - i - 1]\n",
    "        vect = vect.drop('id')\n",
    "        recDay1 = np.floor(recDay1).astype(int)\n",
    "        recDay2 = np.floor(recDay2).astype(int)\n",
    "        term = np.round(term).astype(int)\n",
    "        buyPrice = 0.0\n",
    "        sellPrice = 0.0\n",
    "        if vect[recDay1] < vect[0]:\n",
    "            buyPrice = vect[recDay1]\n",
    "        else:\n",
    "            continue\n",
    "        for day in range(recDay1, min(recDay1 + term + 1, 31)):\n",
    "            if vect[day] < 0.95 * buyPrice:\n",
    "                sellPrice = vect[day]\n",
    "                init = init * sellPrice / buyPrice\n",
    "                lose = lose + 1\n",
    "                break\n",
    "        if sellPrice != 0:\n",
    "            continue\n",
    "        sellPrice = vect[recDay1 + term]\n",
    "        init = init * sellPrice / buyPrice\n",
    "        if(sellPrice > buyPrice):\n",
    "            win = win + 1\n",
    "    return init, win, lose"
   ]
  },
  {
   "cell_type": "code",
   "execution_count": 8,
   "metadata": {},
   "outputs": [],
   "source": [
    "def pipeline(stock):\n",
    "    df, termInfo = initTicker(stock)\n",
    "    recDay1, recDay2, term = getRecDays(termInfo, stock)\n",
    "    return backtest(df, recDay1, recDay2, term)"
   ]
  },
  {
   "cell_type": "code",
   "execution_count": 31,
   "metadata": {},
   "outputs": [],
   "source": [
    "cluster2 = ['ABBV', 'AXP', 'BALL', 'BDX', 'BSX', 'CARR', 'CDAY', 'CF', 'CTLT',\n",
    "       'DAL', 'DOW', 'FTV', 'GM', 'HCA', 'HLT', 'HPE', 'HWM', 'JCI', 'LDOS',\n",
    "       'LNC', 'LYB', 'MA', 'MGM', 'OTIS', 'SYF', 'TDG', 'TEL', 'TFX', 'TMO',\n",
    "       'TPR', 'URI', 'WM', 'WRK', 'XYL', 'ZTS']\n",
    "cluster1 = ['AAP', 'ABC', 'ACN', 'ADM', 'ALL', 'APTV', 'BA', 'BBY', 'CAH', 'CBRE',\n",
    "       'CHD', 'CMA', 'CMI', 'COF', 'COP', 'CRM', 'CTVA', 'CVS', 'DG', 'DGX',\n",
    "       'DVA', 'EQR', 'ETN', 'EW', 'EXR', 'FDX', 'FLT', 'GLW', 'GNRC', 'GS',\n",
    "       'HAL', 'HIG', 'HPQ', 'IR', 'KEY', 'KEYS', 'KMX', 'KR', 'LIN', 'LVS',\n",
    "       'LYV', 'MLM', 'MPC', 'MRO', 'MSCI', 'MSI', 'NUE', 'OGN', 'PM', 'PPG',\n",
    "       'PRU', 'PSX', 'PXD', 'ROK', 'SCHW', 'SHW', 'SJM', 'SPG', 'TDY', 'TWTR',\n",
    "       'TYL', 'UDR', 'UPS', 'VFC', 'VICI', 'VLO', 'VNO', 'WFC']"
   ]
  },
  {
   "cell_type": "code",
   "execution_count": 47,
   "metadata": {},
   "outputs": [],
   "source": [
    "def initTickerCluster(stock, retroactive):\n",
    "    ticker = stock\n",
    "    retro = \"\"\n",
    "    if retroactive:\n",
    "        retro = \"Retroactive\"\n",
    "    dir = cwd + \"\\\\Data\\\\TransformedData\\\\{}.csv\".format(ticker)\n",
    "    df = pd.read_csv(dir)\n",
    "    termInfo = pd.read_csv(\"TermInformation{}.csv\".format(retro))\n",
    "    termInfo = termInfo.set_index('Unnamed: 0')\n",
    "    termInfo.index.name = \"Ticker\"\n",
    "    df.index.name = \"Date\"\n",
    "    return df, termInfo\n",
    "\n",
    "def getRecDaysCluster(cluster, retroactive):\n",
    "    retro = \"\"\n",
    "    if retroactive:\n",
    "        retro = \"Retroactive\"\n",
    "    termInfo = pd.read_csv(\"TermInformation{}.csv\".format(retro))\n",
    "    termInfo = termInfo.set_index('Unnamed: 0')\n",
    "    termInfo.index.name = \"Ticker\"\n",
    "    vect = termInfo.loc[cluster].median(axis = 0)\n",
    "    recDay1 = vect[0]\n",
    "    recDay2 = vect[1]\n",
    "    term = vect[2]\n",
    "    return recDay1, recDay2, term\n",
    "\n",
    "def pipelineCluster(cluster):\n",
    "    score = 0\n",
    "    recDay1, recDay2, term = getRecDaysCluster(cluster)\n",
    "    win = 0\n",
    "    loss = 0\n",
    "    totWin = 0\n",
    "    totLoss = 0\n",
    "    for stock in cluster:\n",
    "        df, termInfo = initTickerCluster(stock)\n",
    "        val, partWin, partLoss = backtestSup(df, recDay1, recDay2, term)\n",
    "        totWin += partWin\n",
    "        totLoss += partLoss\n",
    "        if(val > 1):\n",
    "            win += 1\n",
    "        else:\n",
    "            loss += 1\n",
    "        score = score + val\n",
    "    print(\"Wins : {} Loss : {}\".format(win, loss))\n",
    "    print(\"Partial Wins : {} Partial Loss : {}\".format(totWin, totLoss))\n",
    "    return score / len(cluster)\n",
    "\n",
    "def pipelineIndividual(cluster):\n",
    "    score = 0\n",
    "    win = 0\n",
    "    loss = 0\n",
    "    totWin = 0\n",
    "    totLoss = 0\n",
    "    for stock in cluster:\n",
    "        df, termInfo = initTicker(stock)\n",
    "        recDay1, recDay2, term = getRecDays(termInfo, stock)\n",
    "        val, partWin, partLoss = backtestSup(df, recDay1, recDay2, term)\n",
    "        totWin += partWin\n",
    "        totLoss += partLoss\n",
    "        if(val > 1):\n",
    "            win += 1\n",
    "        else:\n",
    "            loss += 1\n",
    "        score = score + val\n",
    "    print(\"Wins : {} Loss : {}\".format(win, loss))\n",
    "    print(\"Partial Wins : {} Partial Loss : {}\".format(totWin, totLoss))\n",
    "    return score / len(cluster)"
   ]
  },
  {
   "cell_type": "markdown",
   "metadata": {},
   "source": [
    "Retroactive simulation."
   ]
  },
  {
   "cell_type": "code",
   "execution_count": 48,
   "metadata": {},
   "outputs": [
    {
     "name": "stdout",
     "output_type": "stream",
     "text": [
      "Wins : 45 Loss : 23\n",
      "Partial Wins : 449 Partial Loss : 268\n",
      "Total return on Cluster-heavy strategy : 1.1259868446515509\n",
      "Wins : 42 Loss : 26\n",
      "Partial Wins : 461 Partial Loss : 264\n",
      "Total return on naive strategy : 1.1351809504777461\n"
     ]
    }
   ],
   "source": [
    "print(\"Total return on Cluster-heavy strategy : {}\".format(pipelineCluster(cluster1)))\n",
    "print(\"Total return on naive strategy : {}\".format(pipelineIndividual(cluster1)))"
   ]
  },
  {
   "cell_type": "code",
   "execution_count": 50,
   "metadata": {},
   "outputs": [
    {
     "name": "stdout",
     "output_type": "stream",
     "text": [
      "Wins : 28 Loss : 7\n",
      "Partial Wins : 191 Partial Loss : 89\n",
      "Total return on Cluster-heavy strategy : 1.141435748351403\n",
      "Wins : 23 Loss : 12\n",
      "Partial Wins : 193 Partial Loss : 88\n",
      "Total return on naive strategy : 1.1350880436891808\n"
     ]
    }
   ],
   "source": [
    "print(\"Total return on Cluster-heavy strategy : {}\".format(pipelineCluster(cluster2)))\n",
    "print(\"Total return on naive strategy : {}\".format(pipelineIndividual(cluster2)))"
   ]
  },
  {
   "cell_type": "markdown",
   "metadata": {},
   "source": [
    "Train - Test Simulation."
   ]
  },
  {
   "cell_type": "code",
   "execution_count": 52,
   "metadata": {},
   "outputs": [],
   "source": [
    "def pipelineClusterFuture(cluster):\n",
    "    score = 0\n",
    "    recDay1, recDay2, term = getRecDaysCluster(cluster)\n",
    "    win = 0\n",
    "    loss = 0\n",
    "    totWin = 0\n",
    "    totLoss = 0\n",
    "    for stock in cluster:\n",
    "        df, termInfo = initTickerCluster(stock)\n",
    "        val, partWin, partLoss = backtestFuture(df, recDay1, recDay2, term)\n",
    "        totWin += partWin\n",
    "        totLoss += partLoss\n",
    "        if(val > 1):\n",
    "            win += 1\n",
    "        else:\n",
    "            loss += 1\n",
    "        score = score + val\n",
    "    print(\"Wins : {} Loss : {}\".format(win, loss))\n",
    "    print(\"Partial Wins : {} Partial Loss : {}\".format(totWin, totLoss))\n",
    "    return score / len(cluster)\n",
    "\n",
    "def pipelineIndividualFuture(cluster):\n",
    "    score = 0\n",
    "    win = 0\n",
    "    loss = 0\n",
    "    totWin = 0\n",
    "    totLoss = 0\n",
    "    for stock in cluster:\n",
    "        df, termInfo = initTicker(stock)\n",
    "        recDay1, recDay2, term = getRecDays(termInfo, stock)\n",
    "        val, partWin, partLoss = backtestFuture(df, recDay1, recDay2, term)\n",
    "        totWin += partWin\n",
    "        totLoss += partLoss\n",
    "        if(val > 1):\n",
    "            win += 1\n",
    "        else:\n",
    "            loss += 1\n",
    "        score = score + val\n",
    "    print(\"Wins : {} Loss : {}\".format(win, loss))\n",
    "    print(\"Partial Wins : {} Partial Loss : {}\".format(totWin, totLoss))\n",
    "    return score / len(cluster)"
   ]
  },
  {
   "cell_type": "code",
   "execution_count": 66,
   "metadata": {},
   "outputs": [],
   "source": [
    "import DataCluster"
   ]
  },
  {
   "cell_type": "code",
   "execution_count": 67,
   "metadata": {},
   "outputs": [
    {
     "name": "stdout",
     "output_type": "stream",
     "text": [
      "[0 0 1 0 0 1 0 0 0 0 0 0 1 0 1 0 0 0 0 1 1 0 0 0 1 0 1 0]\n",
      "           0       1\n",
      "A      6.350  21.250\n",
      "AAP   11.550  19.875\n",
      "ABBV  12.175  23.375\n",
      "ABC   10.800  21.750\n",
      "ABT   12.000  13.625\n",
      "...      ...     ...\n",
      "XOM    9.350  21.375\n",
      "XYL   10.125  23.875\n",
      "YUM   11.500  17.250\n",
      "ZBH   13.550  23.125\n",
      "ZTS   12.475  22.750\n",
      "\n",
      "[353 rows x 2 columns]\n",
      "Index(['AAP', 'ABBV', 'ABC', 'ACN', 'ADM', 'AFL', 'AIG', 'AJG', 'ALB', 'ALK',\n",
      "       ...\n",
      "       'WM', 'WMB', 'WRK', 'WST', 'WY', 'XOM', 'XYL', 'YUM', 'ZBH', 'ZTS'],\n",
      "      dtype='object', length=237)\n",
      "Index([], dtype='object')\n",
      "[-1  0  0  0 -1  0  0 -1 -1  0  0 -1  0  0  0  0  0  0  0  0  0  0  0 -1\n",
      "  0  0  0  0  0 -1 -1  0  0 -1  0  0  0  0 -1  0  0  0  0  0 -1 -1  0  0\n",
      " -1  0  0  0  0 -1 -1  0  0 -1 -1  0 -1  0  0  0  0  0  0 -1 -1 -1  0  0\n",
      "  0 -1  0  0  0  0  0  0 -1 -1  0  0 -1  0  0  0 -1  0 -1  0  0  0  0 -1\n",
      "  0  0 -1  0  0  0 -1 -1 -1  0  0  0 -1 -1  0 -1 -1  0 -1  0 -1 -1  0  0\n",
      " -1  0  0 -1  0  0  0 -1  0 -1  0  0 -1 -1  0  0  0 -1  0 -1 -1 -1  0  0\n",
      "  0  0  0 -1  0  0  0  0  0 -1  0  0  0  0  0  0 -1 -1 -1  0 -1  0 -1  0\n",
      "  0  0 -1  0  0  0  0 -1  0  0  0 -1 -1  0 -1  0  0  0  0 -1  0  0  0  0\n",
      "  0  0 -1 -1  0  0 -1  0  0  0 -1  0  0  0  0  0  0 -1 -1  0 -1  0  0  0\n",
      " -1 -1  0  0 -1 -1 -1  0  0 -1  0 -1  0  0  0  0 -1 -1  0 -1 -1  0  0 -1\n",
      "  0 -1 -1 -1  0  0 -1  0  0  0  0  0  0 -1  0  0 -1  0  0  0 -1  0  0  0\n",
      "  0 -1  0 -1  0 -1  0  0  0  0  0  0 -1  0  0 -1  0 -1 -1  0  0  0 -1  0\n",
      "  0  0  0 -1  0  0  0  0  0  0 -1  0 -1 -1 -1 -1  0  0  0 -1  0 -1  0  0\n",
      "  0 -1 -1 -1  0  0  0  0  0  0 -1  0  0  0 -1  0  0  0  0 -1  0  0 -1  0\n",
      " -1 -1  0  0 -1  0  0 -1 -1  0  0  0  0  0  0  0  0]\n",
      "0\n"
     ]
    },
    {
     "ename": "KeyError",
     "evalue": "0",
     "output_type": "error",
     "traceback": [
      "\u001b[1;31m---------------------------------------------------------------------------\u001b[0m",
      "\u001b[1;31mKeyError\u001b[0m                                  Traceback (most recent call last)",
      "\u001b[1;32mf:\\Conda\\lib\\site-packages\\pandas\\core\\indexes\\base.py\u001b[0m in \u001b[0;36mget_loc\u001b[1;34m(self, key, method, tolerance)\u001b[0m\n\u001b[0;32m   3628\u001b[0m             \u001b[1;32mtry\u001b[0m\u001b[1;33m:\u001b[0m\u001b[1;33m\u001b[0m\u001b[1;33m\u001b[0m\u001b[0m\n\u001b[1;32m-> 3629\u001b[1;33m                 \u001b[1;32mreturn\u001b[0m \u001b[0mself\u001b[0m\u001b[1;33m.\u001b[0m\u001b[0m_engine\u001b[0m\u001b[1;33m.\u001b[0m\u001b[0mget_loc\u001b[0m\u001b[1;33m(\u001b[0m\u001b[0mcasted_key\u001b[0m\u001b[1;33m)\u001b[0m\u001b[1;33m\u001b[0m\u001b[1;33m\u001b[0m\u001b[0m\n\u001b[0m\u001b[0;32m   3630\u001b[0m             \u001b[1;32mexcept\u001b[0m \u001b[0mKeyError\u001b[0m \u001b[1;32mas\u001b[0m \u001b[0merr\u001b[0m\u001b[1;33m:\u001b[0m\u001b[1;33m\u001b[0m\u001b[1;33m\u001b[0m\u001b[0m\n",
      "\u001b[1;32mf:\\Conda\\lib\\site-packages\\pandas\\_libs\\index.pyx\u001b[0m in \u001b[0;36mpandas._libs.index.IndexEngine.get_loc\u001b[1;34m()\u001b[0m\n",
      "\u001b[1;32mf:\\Conda\\lib\\site-packages\\pandas\\_libs\\index.pyx\u001b[0m in \u001b[0;36mpandas._libs.index.IndexEngine.get_loc\u001b[1;34m()\u001b[0m\n",
      "\u001b[1;32mpandas\\_libs\\hashtable_class_helper.pxi\u001b[0m in \u001b[0;36mpandas._libs.hashtable.PyObjectHashTable.get_item\u001b[1;34m()\u001b[0m\n",
      "\u001b[1;32mpandas\\_libs\\hashtable_class_helper.pxi\u001b[0m in \u001b[0;36mpandas._libs.hashtable.PyObjectHashTable.get_item\u001b[1;34m()\u001b[0m\n",
      "\u001b[1;31mKeyError\u001b[0m: 0",
      "\nThe above exception was the direct cause of the following exception:\n",
      "\u001b[1;31mKeyError\u001b[0m                                  Traceback (most recent call last)",
      "\u001b[1;32m~\\AppData\\Local\\Temp\\ipykernel_9488\\1476205989.py\u001b[0m in \u001b[0;36m<module>\u001b[1;34m\u001b[0m\n\u001b[0;32m      1\u001b[0m \u001b[0mnew_cluster\u001b[0m \u001b[1;33m=\u001b[0m \u001b[0mDataCluster\u001b[0m\u001b[1;33m.\u001b[0m\u001b[0mmain\u001b[0m\u001b[1;33m(\u001b[0m\u001b[1;33m)\u001b[0m\u001b[1;33m\u001b[0m\u001b[1;33m\u001b[0m\u001b[0m\n\u001b[0;32m      2\u001b[0m \u001b[0mprint\u001b[0m\u001b[1;33m(\u001b[0m\u001b[0mnew_cluster\u001b[0m\u001b[1;33m)\u001b[0m\u001b[1;33m\u001b[0m\u001b[1;33m\u001b[0m\u001b[0m\n\u001b[1;32m----> 3\u001b[1;33m \u001b[0mprint\u001b[0m\u001b[1;33m(\u001b[0m\u001b[1;34m\"Total return on Cluster-heavy strategy : {}\"\u001b[0m\u001b[1;33m.\u001b[0m\u001b[0mformat\u001b[0m\u001b[1;33m(\u001b[0m\u001b[0mpipelineClusterFuture\u001b[0m\u001b[1;33m(\u001b[0m\u001b[0mnew_cluster\u001b[0m\u001b[1;33m)\u001b[0m\u001b[1;33m)\u001b[0m\u001b[1;33m)\u001b[0m\u001b[1;33m\u001b[0m\u001b[1;33m\u001b[0m\u001b[0m\n\u001b[0m\u001b[0;32m      4\u001b[0m \u001b[0mprint\u001b[0m\u001b[1;33m(\u001b[0m\u001b[1;34m\"Total return on naive strategy : {}\"\u001b[0m\u001b[1;33m.\u001b[0m\u001b[0mformat\u001b[0m\u001b[1;33m(\u001b[0m\u001b[0mpipelineIndividualFuture\u001b[0m\u001b[1;33m(\u001b[0m\u001b[0mnew_cluster\u001b[0m\u001b[1;33m)\u001b[0m\u001b[1;33m)\u001b[0m\u001b[1;33m)\u001b[0m\u001b[1;33m\u001b[0m\u001b[1;33m\u001b[0m\u001b[0m\n",
      "\u001b[1;32m~\\AppData\\Local\\Temp\\ipykernel_9488\\2056563381.py\u001b[0m in \u001b[0;36mpipelineClusterFuture\u001b[1;34m(cluster)\u001b[0m\n\u001b[0;32m      1\u001b[0m \u001b[1;32mdef\u001b[0m \u001b[0mpipelineClusterFuture\u001b[0m\u001b[1;33m(\u001b[0m\u001b[0mcluster\u001b[0m\u001b[1;33m)\u001b[0m\u001b[1;33m:\u001b[0m\u001b[1;33m\u001b[0m\u001b[1;33m\u001b[0m\u001b[0m\n\u001b[0;32m      2\u001b[0m     \u001b[0mscore\u001b[0m \u001b[1;33m=\u001b[0m \u001b[1;36m0\u001b[0m\u001b[1;33m\u001b[0m\u001b[1;33m\u001b[0m\u001b[0m\n\u001b[1;32m----> 3\u001b[1;33m     \u001b[0mrecDay1\u001b[0m\u001b[1;33m,\u001b[0m \u001b[0mrecDay2\u001b[0m\u001b[1;33m,\u001b[0m \u001b[0mterm\u001b[0m \u001b[1;33m=\u001b[0m \u001b[0mgetRecDaysCluster\u001b[0m\u001b[1;33m(\u001b[0m\u001b[0mcluster\u001b[0m\u001b[1;33m)\u001b[0m\u001b[1;33m\u001b[0m\u001b[1;33m\u001b[0m\u001b[0m\n\u001b[0m\u001b[0;32m      4\u001b[0m     \u001b[0mwin\u001b[0m \u001b[1;33m=\u001b[0m \u001b[1;36m0\u001b[0m\u001b[1;33m\u001b[0m\u001b[1;33m\u001b[0m\u001b[0m\n\u001b[0;32m      5\u001b[0m     \u001b[0mloss\u001b[0m \u001b[1;33m=\u001b[0m \u001b[1;36m0\u001b[0m\u001b[1;33m\u001b[0m\u001b[1;33m\u001b[0m\u001b[0m\n",
      "\u001b[1;32m~\\AppData\\Local\\Temp\\ipykernel_9488\\604147776.py\u001b[0m in \u001b[0;36mgetRecDaysCluster\u001b[1;34m(cluster)\u001b[0m\n\u001b[0;32m     13\u001b[0m     \u001b[0mtermInfo\u001b[0m \u001b[1;33m=\u001b[0m \u001b[0mtermInfo\u001b[0m\u001b[1;33m.\u001b[0m\u001b[0mset_index\u001b[0m\u001b[1;33m(\u001b[0m\u001b[1;34m'Unnamed: 0'\u001b[0m\u001b[1;33m)\u001b[0m\u001b[1;33m\u001b[0m\u001b[1;33m\u001b[0m\u001b[0m\n\u001b[0;32m     14\u001b[0m     \u001b[0mtermInfo\u001b[0m\u001b[1;33m.\u001b[0m\u001b[0mindex\u001b[0m\u001b[1;33m.\u001b[0m\u001b[0mname\u001b[0m \u001b[1;33m=\u001b[0m \u001b[1;34m\"Ticker\"\u001b[0m\u001b[1;33m\u001b[0m\u001b[1;33m\u001b[0m\u001b[0m\n\u001b[1;32m---> 15\u001b[1;33m     \u001b[0mvect\u001b[0m \u001b[1;33m=\u001b[0m \u001b[0mtermInfo\u001b[0m\u001b[1;33m.\u001b[0m\u001b[0mloc\u001b[0m\u001b[1;33m[\u001b[0m\u001b[0mcluster\u001b[0m\u001b[1;33m]\u001b[0m\u001b[1;33m.\u001b[0m\u001b[0mmedian\u001b[0m\u001b[1;33m(\u001b[0m\u001b[0maxis\u001b[0m \u001b[1;33m=\u001b[0m \u001b[1;36m0\u001b[0m\u001b[1;33m)\u001b[0m\u001b[1;33m\u001b[0m\u001b[1;33m\u001b[0m\u001b[0m\n\u001b[0m\u001b[0;32m     16\u001b[0m     \u001b[0mrecDay1\u001b[0m \u001b[1;33m=\u001b[0m \u001b[0mvect\u001b[0m\u001b[1;33m[\u001b[0m\u001b[1;36m0\u001b[0m\u001b[1;33m]\u001b[0m\u001b[1;33m\u001b[0m\u001b[1;33m\u001b[0m\u001b[0m\n\u001b[0;32m     17\u001b[0m     \u001b[0mrecDay2\u001b[0m \u001b[1;33m=\u001b[0m \u001b[0mvect\u001b[0m\u001b[1;33m[\u001b[0m\u001b[1;36m1\u001b[0m\u001b[1;33m]\u001b[0m\u001b[1;33m\u001b[0m\u001b[1;33m\u001b[0m\u001b[0m\n",
      "\u001b[1;32mf:\\Conda\\lib\\site-packages\\pandas\\core\\indexing.py\u001b[0m in \u001b[0;36m__getitem__\u001b[1;34m(self, key)\u001b[0m\n\u001b[0;32m    965\u001b[0m \u001b[1;33m\u001b[0m\u001b[0m\n\u001b[0;32m    966\u001b[0m             \u001b[0mmaybe_callable\u001b[0m \u001b[1;33m=\u001b[0m \u001b[0mcom\u001b[0m\u001b[1;33m.\u001b[0m\u001b[0mapply_if_callable\u001b[0m\u001b[1;33m(\u001b[0m\u001b[0mkey\u001b[0m\u001b[1;33m,\u001b[0m \u001b[0mself\u001b[0m\u001b[1;33m.\u001b[0m\u001b[0mobj\u001b[0m\u001b[1;33m)\u001b[0m\u001b[1;33m\u001b[0m\u001b[1;33m\u001b[0m\u001b[0m\n\u001b[1;32m--> 967\u001b[1;33m             \u001b[1;32mreturn\u001b[0m \u001b[0mself\u001b[0m\u001b[1;33m.\u001b[0m\u001b[0m_getitem_axis\u001b[0m\u001b[1;33m(\u001b[0m\u001b[0mmaybe_callable\u001b[0m\u001b[1;33m,\u001b[0m \u001b[0maxis\u001b[0m\u001b[1;33m=\u001b[0m\u001b[0maxis\u001b[0m\u001b[1;33m)\u001b[0m\u001b[1;33m\u001b[0m\u001b[1;33m\u001b[0m\u001b[0m\n\u001b[0m\u001b[0;32m    968\u001b[0m \u001b[1;33m\u001b[0m\u001b[0m\n\u001b[0;32m    969\u001b[0m     \u001b[1;32mdef\u001b[0m \u001b[0m_is_scalar_access\u001b[0m\u001b[1;33m(\u001b[0m\u001b[0mself\u001b[0m\u001b[1;33m,\u001b[0m \u001b[0mkey\u001b[0m\u001b[1;33m:\u001b[0m \u001b[0mtuple\u001b[0m\u001b[1;33m)\u001b[0m\u001b[1;33m:\u001b[0m\u001b[1;33m\u001b[0m\u001b[1;33m\u001b[0m\u001b[0m\n",
      "\u001b[1;32mf:\\Conda\\lib\\site-packages\\pandas\\core\\indexing.py\u001b[0m in \u001b[0;36m_getitem_axis\u001b[1;34m(self, key, axis)\u001b[0m\n\u001b[0;32m   1203\u001b[0m         \u001b[1;31m# fall thru to straight lookup\u001b[0m\u001b[1;33m\u001b[0m\u001b[1;33m\u001b[0m\u001b[0m\n\u001b[0;32m   1204\u001b[0m         \u001b[0mself\u001b[0m\u001b[1;33m.\u001b[0m\u001b[0m_validate_key\u001b[0m\u001b[1;33m(\u001b[0m\u001b[0mkey\u001b[0m\u001b[1;33m,\u001b[0m \u001b[0maxis\u001b[0m\u001b[1;33m)\u001b[0m\u001b[1;33m\u001b[0m\u001b[1;33m\u001b[0m\u001b[0m\n\u001b[1;32m-> 1205\u001b[1;33m         \u001b[1;32mreturn\u001b[0m \u001b[0mself\u001b[0m\u001b[1;33m.\u001b[0m\u001b[0m_get_label\u001b[0m\u001b[1;33m(\u001b[0m\u001b[0mkey\u001b[0m\u001b[1;33m,\u001b[0m \u001b[0maxis\u001b[0m\u001b[1;33m=\u001b[0m\u001b[0maxis\u001b[0m\u001b[1;33m)\u001b[0m\u001b[1;33m\u001b[0m\u001b[1;33m\u001b[0m\u001b[0m\n\u001b[0m\u001b[0;32m   1206\u001b[0m \u001b[1;33m\u001b[0m\u001b[0m\n\u001b[0;32m   1207\u001b[0m     \u001b[1;32mdef\u001b[0m \u001b[0m_get_slice_axis\u001b[0m\u001b[1;33m(\u001b[0m\u001b[0mself\u001b[0m\u001b[1;33m,\u001b[0m \u001b[0mslice_obj\u001b[0m\u001b[1;33m:\u001b[0m \u001b[0mslice\u001b[0m\u001b[1;33m,\u001b[0m \u001b[0maxis\u001b[0m\u001b[1;33m:\u001b[0m \u001b[0mint\u001b[0m\u001b[1;33m)\u001b[0m\u001b[1;33m:\u001b[0m\u001b[1;33m\u001b[0m\u001b[1;33m\u001b[0m\u001b[0m\n",
      "\u001b[1;32mf:\\Conda\\lib\\site-packages\\pandas\\core\\indexing.py\u001b[0m in \u001b[0;36m_get_label\u001b[1;34m(self, label, axis)\u001b[0m\n\u001b[0;32m   1151\u001b[0m     \u001b[1;32mdef\u001b[0m \u001b[0m_get_label\u001b[0m\u001b[1;33m(\u001b[0m\u001b[0mself\u001b[0m\u001b[1;33m,\u001b[0m \u001b[0mlabel\u001b[0m\u001b[1;33m,\u001b[0m \u001b[0maxis\u001b[0m\u001b[1;33m:\u001b[0m \u001b[0mint\u001b[0m\u001b[1;33m)\u001b[0m\u001b[1;33m:\u001b[0m\u001b[1;33m\u001b[0m\u001b[1;33m\u001b[0m\u001b[0m\n\u001b[0;32m   1152\u001b[0m         \u001b[1;31m# GH#5667 this will fail if the label is not present in the axis.\u001b[0m\u001b[1;33m\u001b[0m\u001b[1;33m\u001b[0m\u001b[0m\n\u001b[1;32m-> 1153\u001b[1;33m         \u001b[1;32mreturn\u001b[0m \u001b[0mself\u001b[0m\u001b[1;33m.\u001b[0m\u001b[0mobj\u001b[0m\u001b[1;33m.\u001b[0m\u001b[0mxs\u001b[0m\u001b[1;33m(\u001b[0m\u001b[0mlabel\u001b[0m\u001b[1;33m,\u001b[0m \u001b[0maxis\u001b[0m\u001b[1;33m=\u001b[0m\u001b[0maxis\u001b[0m\u001b[1;33m)\u001b[0m\u001b[1;33m\u001b[0m\u001b[1;33m\u001b[0m\u001b[0m\n\u001b[0m\u001b[0;32m   1154\u001b[0m \u001b[1;33m\u001b[0m\u001b[0m\n\u001b[0;32m   1155\u001b[0m     \u001b[1;32mdef\u001b[0m \u001b[0m_handle_lowerdim_multi_index_axis0\u001b[0m\u001b[1;33m(\u001b[0m\u001b[0mself\u001b[0m\u001b[1;33m,\u001b[0m \u001b[0mtup\u001b[0m\u001b[1;33m:\u001b[0m \u001b[0mtuple\u001b[0m\u001b[1;33m)\u001b[0m\u001b[1;33m:\u001b[0m\u001b[1;33m\u001b[0m\u001b[1;33m\u001b[0m\u001b[0m\n",
      "\u001b[1;32mf:\\Conda\\lib\\site-packages\\pandas\\core\\generic.py\u001b[0m in \u001b[0;36mxs\u001b[1;34m(self, key, axis, level, drop_level)\u001b[0m\n\u001b[0;32m   3862\u001b[0m                     \u001b[0mnew_index\u001b[0m \u001b[1;33m=\u001b[0m \u001b[0mindex\u001b[0m\u001b[1;33m[\u001b[0m\u001b[0mloc\u001b[0m\u001b[1;33m]\u001b[0m\u001b[1;33m\u001b[0m\u001b[1;33m\u001b[0m\u001b[0m\n\u001b[0;32m   3863\u001b[0m         \u001b[1;32melse\u001b[0m\u001b[1;33m:\u001b[0m\u001b[1;33m\u001b[0m\u001b[1;33m\u001b[0m\u001b[0m\n\u001b[1;32m-> 3864\u001b[1;33m             \u001b[0mloc\u001b[0m \u001b[1;33m=\u001b[0m \u001b[0mindex\u001b[0m\u001b[1;33m.\u001b[0m\u001b[0mget_loc\u001b[0m\u001b[1;33m(\u001b[0m\u001b[0mkey\u001b[0m\u001b[1;33m)\u001b[0m\u001b[1;33m\u001b[0m\u001b[1;33m\u001b[0m\u001b[0m\n\u001b[0m\u001b[0;32m   3865\u001b[0m \u001b[1;33m\u001b[0m\u001b[0m\n\u001b[0;32m   3866\u001b[0m             \u001b[1;32mif\u001b[0m \u001b[0misinstance\u001b[0m\u001b[1;33m(\u001b[0m\u001b[0mloc\u001b[0m\u001b[1;33m,\u001b[0m \u001b[0mnp\u001b[0m\u001b[1;33m.\u001b[0m\u001b[0mndarray\u001b[0m\u001b[1;33m)\u001b[0m\u001b[1;33m:\u001b[0m\u001b[1;33m\u001b[0m\u001b[1;33m\u001b[0m\u001b[0m\n",
      "\u001b[1;32mf:\\Conda\\lib\\site-packages\\pandas\\core\\indexes\\base.py\u001b[0m in \u001b[0;36mget_loc\u001b[1;34m(self, key, method, tolerance)\u001b[0m\n\u001b[0;32m   3629\u001b[0m                 \u001b[1;32mreturn\u001b[0m \u001b[0mself\u001b[0m\u001b[1;33m.\u001b[0m\u001b[0m_engine\u001b[0m\u001b[1;33m.\u001b[0m\u001b[0mget_loc\u001b[0m\u001b[1;33m(\u001b[0m\u001b[0mcasted_key\u001b[0m\u001b[1;33m)\u001b[0m\u001b[1;33m\u001b[0m\u001b[1;33m\u001b[0m\u001b[0m\n\u001b[0;32m   3630\u001b[0m             \u001b[1;32mexcept\u001b[0m \u001b[0mKeyError\u001b[0m \u001b[1;32mas\u001b[0m \u001b[0merr\u001b[0m\u001b[1;33m:\u001b[0m\u001b[1;33m\u001b[0m\u001b[1;33m\u001b[0m\u001b[0m\n\u001b[1;32m-> 3631\u001b[1;33m                 \u001b[1;32mraise\u001b[0m \u001b[0mKeyError\u001b[0m\u001b[1;33m(\u001b[0m\u001b[0mkey\u001b[0m\u001b[1;33m)\u001b[0m \u001b[1;32mfrom\u001b[0m \u001b[0merr\u001b[0m\u001b[1;33m\u001b[0m\u001b[1;33m\u001b[0m\u001b[0m\n\u001b[0m\u001b[0;32m   3632\u001b[0m             \u001b[1;32mexcept\u001b[0m \u001b[0mTypeError\u001b[0m\u001b[1;33m:\u001b[0m\u001b[1;33m\u001b[0m\u001b[1;33m\u001b[0m\u001b[0m\n\u001b[0;32m   3633\u001b[0m                 \u001b[1;31m# If we have a listlike key, _check_indexing_error will raise\u001b[0m\u001b[1;33m\u001b[0m\u001b[1;33m\u001b[0m\u001b[0m\n",
      "\u001b[1;31mKeyError\u001b[0m: 0"
     ]
    },
    {
     "data": {
      "image/png": "[encoded data removed]",
      "text/plain": [
       "<Figure size 1000x700 with 1 Axes>"
      ]
     },
     "metadata": {},
     "output_type": "display_data"
    }
   ],
   "source": [
    "new_cluster = DataCluster.main()\n",
    "print(new_cluster)\n",
    "print(\"Total return on Cluster-heavy strategy : {}\".format(pipelineClusterFuture(new_cluster)))\n",
    "print(\"Total return on naive strategy : {}\".format(pipelineIndividualFuture(new_cluster)))"
   ]
  },
  {
   "cell_type": "markdown",
   "metadata": {},
   "source": [
    "Wins = If we profit from the trade, we win. \\\n",
    "Loss = If we lose from the trade, we lose. \\\n",
    "Return = Amount of money at the end if we start with 1$."
   ]
  }
 ],
 "metadata": {
  "kernelspec": {
   "display_name": "Python 3.9.13 ('base')",
   "language": "python",
   "name": "python3"
  },
  "language_info": {
   "codemirror_mode": {
    "name": "ipython",
    "version": 3
   },
   "file_extension": ".py",
   "mimetype": "text/x-python",
   "name": "python",
   "nbconvert_exporter": "python",
   "pygments_lexer": "ipython3",
   "version": "3.9.13"
  },
  "orig_nbformat": 4,
  "vscode": {
   "interpreter": {
    "hash": "2cdd6f69fc207ea59adbf85df52271823ef95583e4ba7a186f1887986724f65a"
   }
  }
 },
 "nbformat": 4,
 "nbformat_minor": 2
}
